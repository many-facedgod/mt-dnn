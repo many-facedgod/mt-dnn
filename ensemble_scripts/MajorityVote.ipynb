{
 "cells": [
  {
   "cell_type": "code",
   "execution_count": null,
   "metadata": {},
   "outputs": [],
   "source": [
    "import json\n",
    "from sklearn.metrics import accuracy_score"
   ]
  },
  {
   "cell_type": "code",
   "execution_count": null,
   "metadata": {},
   "outputs": [],
   "source": [
    "def compute_acc(predicts, labels):\n",
    "    return 100.0 * accuracy_score(labels, predicts)"
   ]
  },
  {
   "cell_type": "code",
   "execution_count": null,
   "metadata": {},
   "outputs": [],
   "source": [
    "with open('rte_dev_1.json') as json_file:  \n",
    "    data_1 = json.load(json_file)\n",
    "with open('rte_dev_2.json') as json_file:  \n",
    "    data_2 = json.load(json_file)\n",
    "with open('rte_dev_3.json') as json_file:  \n",
    "    data_3 = json.load(json_file)\n",
    "with open('rte_dev_4.json') as json_file:  \n",
    "    data_4 = json.load(json_file)"
   ]
  },
  {
   "cell_type": "code",
   "execution_count": null,
   "metadata": {},
   "outputs": [],
   "source": [
    "def get_preds(data):\n",
    "    preds = []\n",
    "    for i in range(0, len(data['scores']), 2):\n",
    "        if data['scores'][i] > data['scores'][i+1]:\n",
    "            preds.append(0)\n",
    "        else:\n",
    "            preds.append(1)\n",
    "    return preds\n",
    "    \n",
    "def get_majority_vote(preds_1, preds_2, preds_3, preds_4):\n",
    "    preds = []\n",
    "    for i in range(0, len(preds_1)):\n",
    "        if(preds_1[i]+preds_2[i]+preds_3[i]+preds_4[i] > 2):\n",
    "            preds.append(1)\n",
    "        else:\n",
    "            preds.append(0)\n",
    "    return preds"
   ]
  },
  {
   "cell_type": "code",
   "execution_count": null,
   "metadata": {},
   "outputs": [],
   "source": [
    "preds_1 = get_preds(data_1)\n",
    "preds_2 = get_preds(data_2)\n",
    "preds_3 = get_preds(data_3)\n",
    "preds_4 = get_preds(data_4)\n",
    "preds = get_majority_vote(preds_1, preds_2, preds_3, preds_4)"
   ]
  },
  {
   "cell_type": "code",
   "execution_count": null,
   "metadata": {},
   "outputs": [],
   "source": [
    "data = data_1\n",
    "count = 0\n",
    "for i in range(0, len(preds)):\n",
    "    if preds[i] == data['golds'][i]:\n",
    "        count += 1"
   ]
  },
  {
   "cell_type": "code",
   "execution_count": null,
   "metadata": {},
   "outputs": [],
   "source": [
    "compute_acc(preds, data_1['golds'])"
   ]
  },
  {
   "cell_type": "code",
   "execution_count": null,
   "metadata": {},
   "outputs": [],
   "source": []
  }
 ],
 "metadata": {
  "kernelspec": {
   "display_name": "Python 3",
   "language": "python",
   "name": "python3"
  },
  "language_info": {
   "codemirror_mode": {
    "name": "ipython",
    "version": 3
   },
   "file_extension": ".py",
   "mimetype": "text/x-python",
   "name": "python",
   "nbconvert_exporter": "python",
   "pygments_lexer": "ipython3",
   "version": "3.6.5"
  }
 },
 "nbformat": 4,
 "nbformat_minor": 2
}
