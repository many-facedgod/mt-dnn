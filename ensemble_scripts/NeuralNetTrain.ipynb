{
 "cells": [
  {
   "cell_type": "code",
   "execution_count": null,
   "metadata": {},
   "outputs": [],
   "source": [
    "import torch\n",
    "from torch import nn\n",
    "from label_map import METRIC_NAME, METRIC_FUNC\n",
    "import torch.nn.functional as F\n",
    "import numpy as np\n",
    "from torch.optim import Adam"
   ]
  },
  {
   "cell_type": "code",
   "execution_count": null,
   "metadata": {},
   "outputs": [],
   "source": [
    "class LearnWts(nn.Module):\n",
    "    def __init__(self):\n",
    "        super(LearnWts,self).__init__()\n",
    "        self.int_med = 2\n",
    "        self.num_models = 4*2\n",
    "        self.linear = nn.Linear(self.num_models,self.int_med)\n",
    "    \n",
    "    def forward(self,inp):\n",
    "        inp = self.linear(torch.log(inp))\n",
    "        return inp"
   ]
  },
  {
   "cell_type": "code",
   "execution_count": null,
   "metadata": {},
   "outputs": [],
   "source": [
    "net = LearnWts()\n",
    "optim = Adam(net.parameters(), lr = 0.1)\n",
    "loss_fn = nn.CrossEntropyLoss()\n",
    "\n",
    "files = [\"train_1.npy\",\"train_2.npy\",\"train_3.npy\", \"train_4.npy\"]\n",
    "gold = torch.Tensor(np.load(\"golds.npy\")).long()"
   ]
  },
  {
   "cell_type": "code",
   "execution_count": null,
   "metadata": {},
   "outputs": [],
   "source": [
    "def predict_average(score, gold):\n",
    "    mmeta = [0]\n",
    "    import pdb\n",
    "    predictions =  np.argmax(score, axis=1).tolist()\n",
    "    metrics = {}\n",
    "    for mm in mmeta:\n",
    "        metric_name = METRIC_NAME[mm]\n",
    "        metric_func = METRIC_FUNC[mm]\n",
    "        if mm < 3:\n",
    "            metric = metric_func(predictions, gold)\n",
    "        else:\n",
    "            metric = metric_func(score.squeeze(), gold)\n",
    "        metrics[metric_name] = metric\n",
    "    print(metrics)\n",
    "\n",
    "logits = []\n",
    "for fi in files:\n",
    "    ind_logits = np.load(fi)\n",
    "    if len(logits) == 0:\n",
    "        logits = ind_logits\n",
    "    else:\n",
    "        logits = np.concatenate((logits, ind_logits), axis = 1)\n",
    "\n",
    "logits = np.array(logits)\n",
    "inpt = torch.Tensor(logits)\n",
    "total_epochs = 500\n",
    "for epoch in range(total_epochs):\n",
    "    print(\"Epoch: \" + str(epoch))\n",
    "    predictions = net(inpt)\n",
    "    loss = loss_fn(predictions, gold)\n",
    "    print(\"Loss: \" + str(loss))\n",
    "    optim.zero_grad()\n",
    "    loss.backward()\n",
    "    optim.step()\n",
    "    score = predictions.detach().cpu().numpy()\n",
    "    predict_average(score, gold)\n",
    "torch.save(net.state_dict(),\"model.pt\")"
   ]
  },
  {
   "cell_type": "code",
   "execution_count": null,
   "metadata": {},
   "outputs": [],
   "source": []
  }
 ],
 "metadata": {
  "kernelspec": {
   "display_name": "Python 3",
   "language": "python",
   "name": "python3"
  },
  "language_info": {
   "codemirror_mode": {
    "name": "ipython",
    "version": 3
   },
   "file_extension": ".py",
   "mimetype": "text/x-python",
   "name": "python",
   "nbconvert_exporter": "python",
   "pygments_lexer": "ipython3",
   "version": "3.6.5"
  }
 },
 "nbformat": 4,
 "nbformat_minor": 2
}
